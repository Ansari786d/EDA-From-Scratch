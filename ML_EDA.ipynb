{
 "cells": [
  {
   "cell_type": "markdown",
   "id": "77f5ad7b",
   "metadata": {},
   "source": [
    "### Importing Libraries"
   ]
  },
  {
   "cell_type": "code",
   "execution_count": 1,
   "id": "9957f396",
   "metadata": {},
   "outputs": [],
   "source": [
    "import numpy as np \n",
    "import pandas as pd \n",
    "import matplotlib.pyplot as plt \n",
    "import seaborn as sns \n",
    "import wordcloud\n",
    "import nltk\n",
    "import warnings\n",
    "warnings.filterwarnings('ignore')"
   ]
  },
  {
   "cell_type": "markdown",
   "id": "641ad53a",
   "metadata": {},
   "source": [
    "### Reading  and Cleaning the Dataset"
   ]
  },
  {
   "cell_type": "code",
   "execution_count": 2,
   "id": "a33d44c8",
   "metadata": {},
   "outputs": [
    {
     "data": {
      "text/html": [
       "<div>\n",
       "<style scoped>\n",
       "    .dataframe tbody tr th:only-of-type {\n",
       "        vertical-align: middle;\n",
       "    }\n",
       "\n",
       "    .dataframe tbody tr th {\n",
       "        vertical-align: top;\n",
       "    }\n",
       "\n",
       "    .dataframe thead th {\n",
       "        text-align: right;\n",
       "    }\n",
       "</style>\n",
       "<table border=\"1\" class=\"dataframe\">\n",
       "  <thead>\n",
       "    <tr style=\"text-align: right;\">\n",
       "      <th></th>\n",
       "      <th>Unnamed: 0</th>\n",
       "      <th>Job Title</th>\n",
       "      <th>Company</th>\n",
       "      <th>Location</th>\n",
       "      <th>Salary</th>\n",
       "    </tr>\n",
       "  </thead>\n",
       "  <tbody>\n",
       "    <tr>\n",
       "      <th>0</th>\n",
       "      <td>0</td>\n",
       "      <td>Machine Learning Engineer</td>\n",
       "      <td>DeepEdge</td>\n",
       "      <td>Hyderābād</td>\n",
       "      <td>₹4L - ₹8L (Glassdoor Est.)</td>\n",
       "    </tr>\n",
       "    <tr>\n",
       "      <th>1</th>\n",
       "      <td>1</td>\n",
       "      <td>Machine Learning Engineer</td>\n",
       "      <td>Mercedes-Benz Research and Development India P...</td>\n",
       "      <td>Bangalore</td>\n",
       "      <td>₹6L - ₹8L (Glassdoor Est.)</td>\n",
       "    </tr>\n",
       "    <tr>\n",
       "      <th>2</th>\n",
       "      <td>2</td>\n",
       "      <td>Machine Learning Engineer</td>\n",
       "      <td>CogniveAI Innovations</td>\n",
       "      <td>Chennai</td>\n",
       "      <td>NaN</td>\n",
       "    </tr>\n",
       "    <tr>\n",
       "      <th>3</th>\n",
       "      <td>3</td>\n",
       "      <td>Data Engineer</td>\n",
       "      <td>Maersk</td>\n",
       "      <td>Bangalore</td>\n",
       "      <td>₹6L - ₹8L (Glassdoor Est.)</td>\n",
       "    </tr>\n",
       "    <tr>\n",
       "      <th>4</th>\n",
       "      <td>4</td>\n",
       "      <td>Machine Learning Engineer</td>\n",
       "      <td>FLIPPED.AI</td>\n",
       "      <td>Bangalore</td>\n",
       "      <td>₹7L - ₹8L (Employer Est.)</td>\n",
       "    </tr>\n",
       "  </tbody>\n",
       "</table>\n",
       "</div>"
      ],
      "text/plain": [
       "   Unnamed: 0                  Job Title  \\\n",
       "0           0  Machine Learning Engineer   \n",
       "1           1  Machine Learning Engineer   \n",
       "2           2  Machine Learning Engineer   \n",
       "3           3              Data Engineer   \n",
       "4           4  Machine Learning Engineer   \n",
       "\n",
       "                                             Company   Location  \\\n",
       "0                                           DeepEdge  Hyderābād   \n",
       "1  Mercedes-Benz Research and Development India P...  Bangalore   \n",
       "2                              CogniveAI Innovations    Chennai   \n",
       "3                                             Maersk  Bangalore   \n",
       "4                                         FLIPPED.AI  Bangalore   \n",
       "\n",
       "                       Salary  \n",
       "0  ₹4L - ₹8L (Glassdoor Est.)  \n",
       "1  ₹6L - ₹8L (Glassdoor Est.)  \n",
       "2                         NaN  \n",
       "3  ₹6L - ₹8L (Glassdoor Est.)  \n",
       "4   ₹7L - ₹8L (Employer Est.)  "
      ]
     },
     "execution_count": 2,
     "metadata": {},
     "output_type": "execute_result"
    }
   ],
   "source": [
    "df = pd.read_csv('ml_dataset.csv')\n",
    "df.head()"
   ]
  },
  {
   "cell_type": "markdown",
   "id": "06d60d61",
   "metadata": {},
   "source": [
    "### Removing the Duplicates and Unnecessary Columns"
   ]
  },
  {
   "cell_type": "code",
   "execution_count": 3,
   "id": "55cfb642",
   "metadata": {},
   "outputs": [],
   "source": [
    "df.drop_duplicates(inplace=True,ignore_index=True)\n",
    "df.dropna(inplace=True)\n",
    "df.drop('Unnamed: 0',inplace=True,axis=1)\n",
    "df = df[df.Location != 'India']"
   ]
  },
  {
   "cell_type": "code",
   "execution_count": 4,
   "id": "346972f2",
   "metadata": {},
   "outputs": [
    {
     "data": {
      "text/html": [
       "<div>\n",
       "<style scoped>\n",
       "    .dataframe tbody tr th:only-of-type {\n",
       "        vertical-align: middle;\n",
       "    }\n",
       "\n",
       "    .dataframe tbody tr th {\n",
       "        vertical-align: top;\n",
       "    }\n",
       "\n",
       "    .dataframe thead th {\n",
       "        text-align: right;\n",
       "    }\n",
       "</style>\n",
       "<table border=\"1\" class=\"dataframe\">\n",
       "  <thead>\n",
       "    <tr style=\"text-align: right;\">\n",
       "      <th></th>\n",
       "      <th>Job Title</th>\n",
       "      <th>Company</th>\n",
       "      <th>Location</th>\n",
       "      <th>Salary</th>\n",
       "    </tr>\n",
       "  </thead>\n",
       "  <tbody>\n",
       "    <tr>\n",
       "      <th>0</th>\n",
       "      <td>Machine Learning Engineer</td>\n",
       "      <td>DeepEdge</td>\n",
       "      <td>Hyderābād</td>\n",
       "      <td>₹4L - ₹8L (Glassdoor Est.)</td>\n",
       "    </tr>\n",
       "    <tr>\n",
       "      <th>1</th>\n",
       "      <td>Machine Learning Engineer</td>\n",
       "      <td>Mercedes-Benz Research and Development India P...</td>\n",
       "      <td>Bangalore</td>\n",
       "      <td>₹6L - ₹8L (Glassdoor Est.)</td>\n",
       "    </tr>\n",
       "    <tr>\n",
       "      <th>3</th>\n",
       "      <td>Data Engineer</td>\n",
       "      <td>Maersk</td>\n",
       "      <td>Bangalore</td>\n",
       "      <td>₹6L - ₹8L (Glassdoor Est.)</td>\n",
       "    </tr>\n",
       "    <tr>\n",
       "      <th>4</th>\n",
       "      <td>Machine Learning Engineer</td>\n",
       "      <td>FLIPPED.AI</td>\n",
       "      <td>Bangalore</td>\n",
       "      <td>₹7L - ₹8L (Employer Est.)</td>\n",
       "    </tr>\n",
       "    <tr>\n",
       "      <th>5</th>\n",
       "      <td>Computer Vision Research Engineer - Machine Le...</td>\n",
       "      <td>Mercedes-Benz Research and Development India P...</td>\n",
       "      <td>Bangalore</td>\n",
       "      <td>₹8L - ₹11L (Glassdoor Est.)</td>\n",
       "    </tr>\n",
       "    <tr>\n",
       "      <th>...</th>\n",
       "      <td>...</td>\n",
       "      <td>...</td>\n",
       "      <td>...</td>\n",
       "      <td>...</td>\n",
       "    </tr>\n",
       "    <tr>\n",
       "      <th>895</th>\n",
       "      <td>Associate - Machine Learning Engineer</td>\n",
       "      <td>EY</td>\n",
       "      <td>Bangalore</td>\n",
       "      <td>₹3L - ₹5L (Glassdoor Est.)</td>\n",
       "    </tr>\n",
       "    <tr>\n",
       "      <th>896</th>\n",
       "      <td>Machine Learning Engineer-NLP (Remote)</td>\n",
       "      <td>Leena AI</td>\n",
       "      <td>Gurgaon</td>\n",
       "      <td>₹9L - ₹11L (Glassdoor Est.)</td>\n",
       "    </tr>\n",
       "    <tr>\n",
       "      <th>897</th>\n",
       "      <td>Machine Learning Engineer</td>\n",
       "      <td>Diageo</td>\n",
       "      <td>Bangalore</td>\n",
       "      <td>₹3L - ₹4L (Glassdoor Est.)</td>\n",
       "    </tr>\n",
       "    <tr>\n",
       "      <th>898</th>\n",
       "      <td>Machine Learning Engineer</td>\n",
       "      <td>Datamate Infosolutions Pvt. Ltd</td>\n",
       "      <td>Cochin</td>\n",
       "      <td>₹4L - ₹8L (Glassdoor Est.)</td>\n",
       "    </tr>\n",
       "    <tr>\n",
       "      <th>899</th>\n",
       "      <td>Machine Learning Engineer</td>\n",
       "      <td>Multirecruit</td>\n",
       "      <td>Bangalore</td>\n",
       "      <td>₹25L - ₹40L (Employer Est.)</td>\n",
       "    </tr>\n",
       "  </tbody>\n",
       "</table>\n",
       "<p>650 rows × 4 columns</p>\n",
       "</div>"
      ],
      "text/plain": [
       "                                             Job Title  \\\n",
       "0                            Machine Learning Engineer   \n",
       "1                            Machine Learning Engineer   \n",
       "3                                        Data Engineer   \n",
       "4                            Machine Learning Engineer   \n",
       "5    Computer Vision Research Engineer - Machine Le...   \n",
       "..                                                 ...   \n",
       "895              Associate - Machine Learning Engineer   \n",
       "896             Machine Learning Engineer-NLP (Remote)   \n",
       "897                          Machine Learning Engineer   \n",
       "898                          Machine Learning Engineer   \n",
       "899                          Machine Learning Engineer   \n",
       "\n",
       "                                               Company   Location  \\\n",
       "0                                             DeepEdge  Hyderābād   \n",
       "1    Mercedes-Benz Research and Development India P...  Bangalore   \n",
       "3                                               Maersk  Bangalore   \n",
       "4                                           FLIPPED.AI  Bangalore   \n",
       "5    Mercedes-Benz Research and Development India P...  Bangalore   \n",
       "..                                                 ...        ...   \n",
       "895                                                 EY  Bangalore   \n",
       "896                                           Leena AI    Gurgaon   \n",
       "897                                             Diageo  Bangalore   \n",
       "898                    Datamate Infosolutions Pvt. Ltd     Cochin   \n",
       "899                                       Multirecruit  Bangalore   \n",
       "\n",
       "                          Salary  \n",
       "0     ₹4L - ₹8L (Glassdoor Est.)  \n",
       "1     ₹6L - ₹8L (Glassdoor Est.)  \n",
       "3     ₹6L - ₹8L (Glassdoor Est.)  \n",
       "4      ₹7L - ₹8L (Employer Est.)  \n",
       "5    ₹8L - ₹11L (Glassdoor Est.)  \n",
       "..                           ...  \n",
       "895   ₹3L - ₹5L (Glassdoor Est.)  \n",
       "896  ₹9L - ₹11L (Glassdoor Est.)  \n",
       "897   ₹3L - ₹4L (Glassdoor Est.)  \n",
       "898   ₹4L - ₹8L (Glassdoor Est.)  \n",
       "899  ₹25L - ₹40L (Employer Est.)  \n",
       "\n",
       "[650 rows x 4 columns]"
      ]
     },
     "execution_count": 4,
     "metadata": {},
     "output_type": "execute_result"
    }
   ],
   "source": [
    "df"
   ]
  },
  {
   "cell_type": "markdown",
   "id": "bc8f2f12",
   "metadata": {},
   "source": [
    "### Cleaning the Salary Column"
   ]
  },
  {
   "cell_type": "code",
   "execution_count": 5,
   "id": "d5cdbf77",
   "metadata": {},
   "outputs": [],
   "source": [
    "new_salary = df['Salary'].apply(lambda x: x.split('(')[0])\n",
    "salary = new_salary.apply(lambda x: x.replace('₹','').replace('L','').replace('Cr','100').replace('T',''))\n"
   ]
  },
  {
   "cell_type": "code",
   "execution_count": 6,
   "id": "bd8b3581",
   "metadata": {},
   "outputs": [],
   "source": [
    "min_salary = salary.apply(lambda x: int(x.split('-')[0]))\n"
   ]
  },
  {
   "cell_type": "code",
   "execution_count": 7,
   "id": "56207979",
   "metadata": {},
   "outputs": [],
   "source": [
    "max_salary = salary.apply(lambda x: int(x.split('-')[-1]))"
   ]
  },
  {
   "cell_type": "code",
   "execution_count": 8,
   "id": "accc2129",
   "metadata": {},
   "outputs": [],
   "source": [
    "df['avg_salary'] = (max_salary+min_salary)/2"
   ]
  },
  {
   "cell_type": "code",
   "execution_count": 9,
   "id": "1dab7115",
   "metadata": {},
   "outputs": [],
   "source": [
    "df.drop('Salary',axis=1,inplace=True)\n",
    "df.drop_duplicates(inplace=True, ignore_index=True)"
   ]
  },
  {
   "cell_type": "code",
   "execution_count": 10,
   "id": "3b61160e",
   "metadata": {},
   "outputs": [
    {
     "data": {
      "text/html": [
       "<div>\n",
       "<style scoped>\n",
       "    .dataframe tbody tr th:only-of-type {\n",
       "        vertical-align: middle;\n",
       "    }\n",
       "\n",
       "    .dataframe tbody tr th {\n",
       "        vertical-align: top;\n",
       "    }\n",
       "\n",
       "    .dataframe thead th {\n",
       "        text-align: right;\n",
       "    }\n",
       "</style>\n",
       "<table border=\"1\" class=\"dataframe\">\n",
       "  <thead>\n",
       "    <tr style=\"text-align: right;\">\n",
       "      <th></th>\n",
       "      <th>Job Title</th>\n",
       "      <th>Company</th>\n",
       "      <th>Location</th>\n",
       "      <th>avg_salary</th>\n",
       "    </tr>\n",
       "  </thead>\n",
       "  <tbody>\n",
       "    <tr>\n",
       "      <th>43</th>\n",
       "      <td>Machine Learning Engineer</td>\n",
       "      <td>Acme Hr Consulting</td>\n",
       "      <td>Gurgaon</td>\n",
       "      <td>97.0</td>\n",
       "    </tr>\n",
       "  </tbody>\n",
       "</table>\n",
       "</div>"
      ],
      "text/plain": [
       "                    Job Title             Company Location  avg_salary\n",
       "43  Machine Learning Engineer  Acme Hr Consulting  Gurgaon        97.0"
      ]
     },
     "execution_count": 10,
     "metadata": {},
     "output_type": "execute_result"
    }
   ],
   "source": [
    "df[df['avg_salary'] == df['avg_salary'].max()]"
   ]
  },
  {
   "cell_type": "markdown",
   "id": "c4101f20",
   "metadata": {},
   "source": [
    "### Exploratory Data Analysis"
   ]
  },
  {
   "cell_type": "code",
   "execution_count": 11,
   "id": "a2f87cbc",
   "metadata": {},
   "outputs": [
    {
     "name": "stdout",
     "output_type": "stream",
     "text": [
      "<class 'pandas.core.frame.DataFrame'>\n",
      "RangeIndex: 45 entries, 0 to 44\n",
      "Data columns (total 4 columns):\n",
      " #   Column      Non-Null Count  Dtype  \n",
      "---  ------      --------------  -----  \n",
      " 0   Job Title   45 non-null     object \n",
      " 1   Company     45 non-null     object \n",
      " 2   Location    45 non-null     object \n",
      " 3   avg_salary  45 non-null     float64\n",
      "dtypes: float64(1), object(3)\n",
      "memory usage: 1.5+ KB\n"
     ]
    }
   ],
   "source": [
    "df.info()"
   ]
  },
  {
   "cell_type": "code",
   "execution_count": 12,
   "id": "68ee8624",
   "metadata": {},
   "outputs": [
    {
     "data": {
      "text/html": [
       "<div>\n",
       "<style scoped>\n",
       "    .dataframe tbody tr th:only-of-type {\n",
       "        vertical-align: middle;\n",
       "    }\n",
       "\n",
       "    .dataframe tbody tr th {\n",
       "        vertical-align: top;\n",
       "    }\n",
       "\n",
       "    .dataframe thead th {\n",
       "        text-align: right;\n",
       "    }\n",
       "</style>\n",
       "<table border=\"1\" class=\"dataframe\">\n",
       "  <thead>\n",
       "    <tr style=\"text-align: right;\">\n",
       "      <th></th>\n",
       "      <th>avg_salary</th>\n",
       "    </tr>\n",
       "  </thead>\n",
       "  <tbody>\n",
       "    <tr>\n",
       "      <th>count</th>\n",
       "      <td>45.000000</td>\n",
       "    </tr>\n",
       "    <tr>\n",
       "      <th>mean</th>\n",
       "      <td>9.433333</td>\n",
       "    </tr>\n",
       "    <tr>\n",
       "      <th>std</th>\n",
       "      <td>14.750424</td>\n",
       "    </tr>\n",
       "    <tr>\n",
       "      <th>min</th>\n",
       "      <td>2.500000</td>\n",
       "    </tr>\n",
       "    <tr>\n",
       "      <th>25%</th>\n",
       "      <td>4.000000</td>\n",
       "    </tr>\n",
       "    <tr>\n",
       "      <th>50%</th>\n",
       "      <td>6.000000</td>\n",
       "    </tr>\n",
       "    <tr>\n",
       "      <th>75%</th>\n",
       "      <td>7.000000</td>\n",
       "    </tr>\n",
       "    <tr>\n",
       "      <th>max</th>\n",
       "      <td>97.000000</td>\n",
       "    </tr>\n",
       "  </tbody>\n",
       "</table>\n",
       "</div>"
      ],
      "text/plain": [
       "       avg_salary\n",
       "count   45.000000\n",
       "mean     9.433333\n",
       "std     14.750424\n",
       "min      2.500000\n",
       "25%      4.000000\n",
       "50%      6.000000\n",
       "75%      7.000000\n",
       "max     97.000000"
      ]
     },
     "execution_count": 12,
     "metadata": {},
     "output_type": "execute_result"
    }
   ],
   "source": [
    "df.describe()"
   ]
  },
  {
   "cell_type": "code",
   "execution_count": 13,
   "id": "76a73b85",
   "metadata": {},
   "outputs": [
    {
     "data": {
      "text/plain": [
       "Index(['Job Title', 'Company', 'Location', 'avg_salary'], dtype='object')"
      ]
     },
     "execution_count": 13,
     "metadata": {},
     "output_type": "execute_result"
    }
   ],
   "source": [
    "df.columns"
   ]
  },
  {
   "cell_type": "code",
   "execution_count": 14,
   "id": "60a6b261",
   "metadata": {},
   "outputs": [
    {
     "data": {
      "text/plain": [
       "<AxesSubplot:>"
      ]
     },
     "execution_count": 14,
     "metadata": {},
     "output_type": "execute_result"
    },
    {
     "data": {
      "image/png": "[encoded data removed]",
      "text/plain": [
       "<Figure size 432x288 with 1 Axes>"
      ]
     },
     "metadata": {
      "needs_background": "light"
     },
     "output_type": "display_data"
    }
   ],
   "source": [
    "df.avg_salary.hist()"
   ]
  },
  {
   "cell_type": "code",
   "execution_count": 15,
   "id": "76f35ce3",
   "metadata": {},
   "outputs": [
    {
     "data": {
      "text/plain": [
       "<AxesSubplot:>"
      ]
     },
     "execution_count": 15,
     "metadata": {},
     "output_type": "execute_result"
    },
    {
     "data": {
      "image/png": "[encoded data removed]",
      "text/plain": [
       "<Figure size 432x288 with 1 Axes>"
      ]
     },
     "metadata": {
      "needs_background": "light"
     },
     "output_type": "display_data"
    }
   ],
   "source": [
    "df.boxplot(column=['avg_salary'])"
   ]
  },
  {
   "cell_type": "markdown",
   "id": "b06ec5fd",
   "metadata": {},
   "source": [
    "## Catorical Plots"
   ]
  },
  {
   "cell_type": "code",
   "execution_count": 16,
   "id": "56c06567",
   "metadata": {},
   "outputs": [],
   "source": [
    "s = df[list(df.columns[:-1])]"
   ]
  },
  {
   "cell_type": "code",
   "execution_count": 17,
   "id": "2645477a",
   "metadata": {},
   "outputs": [
    {
     "name": "stdout",
     "output_type": "stream",
     "text": [
      "Graph for Job Title: total = 10\n"
     ]
    },
    {
     "data": {
      "image/png": "[encoded data removed]",
      "text/plain": [
       "<Figure size 576x360 with 1 Axes>"
      ]
     },
     "metadata": {
      "needs_background": "light"
     },
     "output_type": "display_data"
    },
    {
     "name": "stdout",
     "output_type": "stream",
     "text": [
      "Graph for Company: total = 10\n"
     ]
    },
    {
     "data": {
      "image/png": "[encoded data removed]",
      "text/plain": [
       "<Figure size 576x360 with 1 Axes>"
      ]
     },
     "metadata": {
      "needs_background": "light"
     },
     "output_type": "display_data"
    },
    {
     "name": "stdout",
     "output_type": "stream",
     "text": [
      "Graph for Location: total = 10\n"
     ]
    },
    {
     "data": {
      "image/png": "[encoded data removed]",
      "text/plain": [
       "<Figure size 576x360 with 1 Axes>"
      ]
     },
     "metadata": {
      "needs_background": "light"
     },
     "output_type": "display_data"
    }
   ],
   "source": [
    "import seaborn as sns\n",
    "for i in s:\n",
    "    cat_num = s[i].value_counts()[:10]\n",
    "    print(\"Graph for %s: total = %d\" % (i, len(cat_num)))\n",
    "    f,ax = plt.subplots(1,figsize=(8,5))\n",
    "    sns.barplot(x=cat_num.index, y=cat_num,ax=ax)\n",
    "    ax.set_xticklabels(ax.get_xticklabels(),rotation=90)\n",
    "    plt.show()"
   ]
  },
  {
   "cell_type": "markdown",
   "id": "b08827eb",
   "metadata": {},
   "source": [
    "### We can draw a conclusion from above graphs \n",
    "#### 1. Mercedes-Benz,Acme Hr and Qcom have more number of openings.\n",
    "#### 2. The most number of jobs are available in Banglore followed by Hyderabad and Pune"
   ]
  },
  {
   "cell_type": "markdown",
   "id": "edf40936",
   "metadata": {},
   "source": [
    "### Lets's see the pivot table for different features"
   ]
  },
  {
   "cell_type": "code",
   "execution_count": 18,
   "id": "6f45c279",
   "metadata": {},
   "outputs": [
    {
     "data": {
      "text/plain": [
       "Index(['Job Title', 'Company', 'Location', 'avg_salary'], dtype='object')"
      ]
     },
     "execution_count": 18,
     "metadata": {},
     "output_type": "execute_result"
    }
   ],
   "source": [
    "df.columns"
   ]
  },
  {
   "cell_type": "code",
   "execution_count": 19,
   "id": "0f0f11bf",
   "metadata": {},
   "outputs": [
    {
     "data": {
      "text/html": [
       "<div>\n",
       "<style scoped>\n",
       "    .dataframe tbody tr th:only-of-type {\n",
       "        vertical-align: middle;\n",
       "    }\n",
       "\n",
       "    .dataframe tbody tr th {\n",
       "        vertical-align: top;\n",
       "    }\n",
       "\n",
       "    .dataframe thead th {\n",
       "        text-align: right;\n",
       "    }\n",
       "</style>\n",
       "<table border=\"1\" class=\"dataframe\">\n",
       "  <thead>\n",
       "    <tr style=\"text-align: right;\">\n",
       "      <th></th>\n",
       "      <th>Job Title</th>\n",
       "      <th>Company</th>\n",
       "      <th>Location</th>\n",
       "      <th>avg_salary</th>\n",
       "    </tr>\n",
       "  </thead>\n",
       "  <tbody>\n",
       "    <tr>\n",
       "      <th>0</th>\n",
       "      <td>Machine Learning Engineer</td>\n",
       "      <td>DeepEdge</td>\n",
       "      <td>Hyderābād</td>\n",
       "      <td>6.0</td>\n",
       "    </tr>\n",
       "    <tr>\n",
       "      <th>1</th>\n",
       "      <td>Machine Learning Engineer</td>\n",
       "      <td>Mercedes-Benz Research and Development India P...</td>\n",
       "      <td>Bangalore</td>\n",
       "      <td>7.0</td>\n",
       "    </tr>\n",
       "    <tr>\n",
       "      <th>2</th>\n",
       "      <td>Data Engineer</td>\n",
       "      <td>Maersk</td>\n",
       "      <td>Bangalore</td>\n",
       "      <td>7.0</td>\n",
       "    </tr>\n",
       "    <tr>\n",
       "      <th>3</th>\n",
       "      <td>Machine Learning Engineer</td>\n",
       "      <td>FLIPPED.AI</td>\n",
       "      <td>Bangalore</td>\n",
       "      <td>7.5</td>\n",
       "    </tr>\n",
       "    <tr>\n",
       "      <th>4</th>\n",
       "      <td>Computer Vision Research Engineer - Machine Le...</td>\n",
       "      <td>Mercedes-Benz Research and Development India P...</td>\n",
       "      <td>Bangalore</td>\n",
       "      <td>9.5</td>\n",
       "    </tr>\n",
       "    <tr>\n",
       "      <th>5</th>\n",
       "      <td>Machine Learning - Staff Engineer</td>\n",
       "      <td>Qcom</td>\n",
       "      <td>Hyderābād</td>\n",
       "      <td>4.0</td>\n",
       "    </tr>\n",
       "    <tr>\n",
       "      <th>6</th>\n",
       "      <td>Machine learning engineer</td>\n",
       "      <td>3loq</td>\n",
       "      <td>Hyderābād</td>\n",
       "      <td>6.0</td>\n",
       "    </tr>\n",
       "    <tr>\n",
       "      <th>7</th>\n",
       "      <td>AI and Machine Learning (ML) Performance Engineer</td>\n",
       "      <td>Hewlett Packard Enterprise</td>\n",
       "      <td>Bangalore</td>\n",
       "      <td>5.5</td>\n",
       "    </tr>\n",
       "    <tr>\n",
       "      <th>8</th>\n",
       "      <td>Jr Data Scientist</td>\n",
       "      <td>Pluto7</td>\n",
       "      <td>Bangalore</td>\n",
       "      <td>8.5</td>\n",
       "    </tr>\n",
       "    <tr>\n",
       "      <th>9</th>\n",
       "      <td>Jr. ML Engineer</td>\n",
       "      <td>Openspace Services</td>\n",
       "      <td>Mumbai</td>\n",
       "      <td>4.0</td>\n",
       "    </tr>\n",
       "  </tbody>\n",
       "</table>\n",
       "</div>"
      ],
      "text/plain": [
       "                                           Job Title  \\\n",
       "0                          Machine Learning Engineer   \n",
       "1                          Machine Learning Engineer   \n",
       "2                                      Data Engineer   \n",
       "3                          Machine Learning Engineer   \n",
       "4  Computer Vision Research Engineer - Machine Le...   \n",
       "5                  Machine Learning - Staff Engineer   \n",
       "6                          Machine learning engineer   \n",
       "7  AI and Machine Learning (ML) Performance Engineer   \n",
       "8                                  Jr Data Scientist   \n",
       "9                                    Jr. ML Engineer   \n",
       "\n",
       "                                             Company   Location  avg_salary  \n",
       "0                                           DeepEdge  Hyderābād         6.0  \n",
       "1  Mercedes-Benz Research and Development India P...  Bangalore         7.0  \n",
       "2                                             Maersk  Bangalore         7.0  \n",
       "3                                         FLIPPED.AI  Bangalore         7.5  \n",
       "4  Mercedes-Benz Research and Development India P...  Bangalore         9.5  \n",
       "5                                               Qcom  Hyderābād         4.0  \n",
       "6                                               3loq  Hyderābād         6.0  \n",
       "7                         Hewlett Packard Enterprise  Bangalore         5.5  \n",
       "8                                             Pluto7  Bangalore         8.5  \n",
       "9                                 Openspace Services     Mumbai         4.0  "
      ]
     },
     "execution_count": 19,
     "metadata": {},
     "output_type": "execute_result"
    }
   ],
   "source": [
    "df[:10]"
   ]
  },
  {
   "cell_type": "code",
   "execution_count": 20,
   "id": "7960b9a9",
   "metadata": {},
   "outputs": [],
   "source": [
    "pd.set_option('display.max_rows',None)"
   ]
  },
  {
   "cell_type": "markdown",
   "id": "1c42fe6e",
   "metadata": {},
   "source": [
    "### Top 5 Job Title with Highest salary"
   ]
  },
  {
   "cell_type": "code",
   "execution_count": 21,
   "id": "fbd47b92",
   "metadata": {},
   "outputs": [
    {
     "data": {
      "text/html": [
       "<div>\n",
       "<style scoped>\n",
       "    .dataframe tbody tr th:only-of-type {\n",
       "        vertical-align: middle;\n",
       "    }\n",
       "\n",
       "    .dataframe tbody tr th {\n",
       "        vertical-align: top;\n",
       "    }\n",
       "\n",
       "    .dataframe thead th {\n",
       "        text-align: right;\n",
       "    }\n",
       "</style>\n",
       "<table border=\"1\" class=\"dataframe\">\n",
       "  <thead>\n",
       "    <tr style=\"text-align: right;\">\n",
       "      <th></th>\n",
       "      <th>avg_salary</th>\n",
       "    </tr>\n",
       "    <tr>\n",
       "      <th>Job Title</th>\n",
       "      <th></th>\n",
       "    </tr>\n",
       "  </thead>\n",
       "  <tbody>\n",
       "    <tr>\n",
       "      <th>Machine Learning Engineer 2</th>\n",
       "      <td>30.500000</td>\n",
       "    </tr>\n",
       "    <tr>\n",
       "      <th>Deep Learning Deployment Engineer (Cloud)</th>\n",
       "      <td>24.000000</td>\n",
       "    </tr>\n",
       "    <tr>\n",
       "      <th>– Machine Learning Engineer</th>\n",
       "      <td>14.000000</td>\n",
       "    </tr>\n",
       "    <tr>\n",
       "      <th>Machine Learning Engineer</th>\n",
       "      <td>10.613636</td>\n",
       "    </tr>\n",
       "    <tr>\n",
       "      <th>Machine Learning Engineer-NLP (Remote)</th>\n",
       "      <td>10.000000</td>\n",
       "    </tr>\n",
       "  </tbody>\n",
       "</table>\n",
       "</div>"
      ],
      "text/plain": [
       "                                           avg_salary\n",
       "Job Title                                            \n",
       "Machine Learning Engineer 2                 30.500000\n",
       "Deep Learning Deployment Engineer (Cloud)   24.000000\n",
       "– Machine Learning Engineer                 14.000000\n",
       "Machine Learning Engineer                   10.613636\n",
       "Machine Learning Engineer-NLP (Remote)      10.000000"
      ]
     },
     "execution_count": 21,
     "metadata": {},
     "output_type": "execute_result"
    }
   ],
   "source": [
    "pd.pivot_table(df,index='Job Title', values = 'avg_salary',aggfunc=np.mean).sort_values(by='avg_salary',ascending=False).head(5)"
   ]
  },
  {
   "cell_type": "code",
   "execution_count": 22,
   "id": "6de0ade1",
   "metadata": {},
   "outputs": [
    {
     "data": {
      "text/plain": [
       "9.433333333333334"
      ]
     },
     "execution_count": 22,
     "metadata": {},
     "output_type": "execute_result"
    }
   ],
   "source": [
    "df['avg_salary'].mean()"
   ]
  },
  {
   "cell_type": "code",
   "execution_count": 23,
   "id": "e45750d6",
   "metadata": {},
   "outputs": [],
   "source": [
    "# we can do same analysis using groupby\n",
    "# df.groupby('Job Title')['avg_salary'].max()\n"
   ]
  },
  {
   "cell_type": "code",
   "execution_count": 24,
   "id": "afb4cd7a",
   "metadata": {},
   "outputs": [
    {
     "data": {
      "text/html": [
       "<div>\n",
       "<style scoped>\n",
       "    .dataframe tbody tr th:only-of-type {\n",
       "        vertical-align: middle;\n",
       "    }\n",
       "\n",
       "    .dataframe tbody tr th {\n",
       "        vertical-align: top;\n",
       "    }\n",
       "\n",
       "    .dataframe thead th {\n",
       "        text-align: right;\n",
       "    }\n",
       "</style>\n",
       "<table border=\"1\" class=\"dataframe\">\n",
       "  <thead>\n",
       "    <tr style=\"text-align: right;\">\n",
       "      <th></th>\n",
       "      <th>Job Title</th>\n",
       "      <th>Company</th>\n",
       "      <th>Location</th>\n",
       "      <th>avg_salary</th>\n",
       "    </tr>\n",
       "  </thead>\n",
       "  <tbody>\n",
       "    <tr>\n",
       "      <th>43</th>\n",
       "      <td>Machine Learning Engineer</td>\n",
       "      <td>Acme Hr Consulting</td>\n",
       "      <td>Gurgaon</td>\n",
       "      <td>97.0</td>\n",
       "    </tr>\n",
       "  </tbody>\n",
       "</table>\n",
       "</div>"
      ],
      "text/plain": [
       "                    Job Title             Company Location  avg_salary\n",
       "43  Machine Learning Engineer  Acme Hr Consulting  Gurgaon        97.0"
      ]
     },
     "execution_count": 24,
     "metadata": {},
     "output_type": "execute_result"
    }
   ],
   "source": [
    "df[df['avg_salary'] == df['avg_salary'].max() ]"
   ]
  },
  {
   "cell_type": "code",
   "execution_count": 25,
   "id": "ea60f4df",
   "metadata": {},
   "outputs": [],
   "source": [
    "# df.groupby('Job Title')[['avg_salary']].max().sort_values(by='avg_salary',ascending = False)"
   ]
  },
  {
   "cell_type": "markdown",
   "id": "4d79b4f6",
   "metadata": {},
   "source": [
    "### Top 5 cities that offers highest salary"
   ]
  },
  {
   "cell_type": "code",
   "execution_count": 26,
   "id": "25615ad5",
   "metadata": {},
   "outputs": [
    {
     "data": {
      "text/html": [
       "<div>\n",
       "<style scoped>\n",
       "    .dataframe tbody tr th:only-of-type {\n",
       "        vertical-align: middle;\n",
       "    }\n",
       "\n",
       "    .dataframe tbody tr th {\n",
       "        vertical-align: top;\n",
       "    }\n",
       "\n",
       "    .dataframe thead th {\n",
       "        text-align: right;\n",
       "    }\n",
       "</style>\n",
       "<table border=\"1\" class=\"dataframe\">\n",
       "  <thead>\n",
       "    <tr style=\"text-align: right;\">\n",
       "      <th></th>\n",
       "      <th>avg_salary</th>\n",
       "    </tr>\n",
       "    <tr>\n",
       "      <th>Location</th>\n",
       "      <th></th>\n",
       "    </tr>\n",
       "  </thead>\n",
       "  <tbody>\n",
       "    <tr>\n",
       "      <th>Gurgaon</th>\n",
       "      <td>38.666667</td>\n",
       "    </tr>\n",
       "    <tr>\n",
       "      <th>Calcutta</th>\n",
       "      <td>14.000000</td>\n",
       "    </tr>\n",
       "    <tr>\n",
       "      <th>Bangalore</th>\n",
       "      <td>9.214286</td>\n",
       "    </tr>\n",
       "    <tr>\n",
       "      <th>Noida</th>\n",
       "      <td>6.500000</td>\n",
       "    </tr>\n",
       "    <tr>\n",
       "      <th>Farīdābād</th>\n",
       "      <td>6.000000</td>\n",
       "    </tr>\n",
       "  </tbody>\n",
       "</table>\n",
       "</div>"
      ],
      "text/plain": [
       "           avg_salary\n",
       "Location             \n",
       "Gurgaon     38.666667\n",
       "Calcutta    14.000000\n",
       "Bangalore    9.214286\n",
       "Noida        6.500000\n",
       "Farīdābād    6.000000"
      ]
     },
     "execution_count": 26,
     "metadata": {},
     "output_type": "execute_result"
    }
   ],
   "source": [
    "pd.pivot_table(df,index='Location', values='avg_salary').sort_values(by='avg_salary',ascending=False).head(5)"
   ]
  },
  {
   "cell_type": "markdown",
   "id": "26b2bfd1",
   "metadata": {},
   "source": [
    "### Top 5 companies that offers highest salary "
   ]
  },
  {
   "cell_type": "code",
   "execution_count": 27,
   "id": "417f2c24",
   "metadata": {},
   "outputs": [
    {
     "data": {
      "text/html": [
       "<div>\n",
       "<style scoped>\n",
       "    .dataframe tbody tr th:only-of-type {\n",
       "        vertical-align: middle;\n",
       "    }\n",
       "\n",
       "    .dataframe tbody tr th {\n",
       "        vertical-align: top;\n",
       "    }\n",
       "\n",
       "    .dataframe thead th {\n",
       "        text-align: right;\n",
       "    }\n",
       "</style>\n",
       "<table border=\"1\" class=\"dataframe\">\n",
       "  <thead>\n",
       "    <tr style=\"text-align: right;\">\n",
       "      <th></th>\n",
       "      <th>avg_salary</th>\n",
       "    </tr>\n",
       "    <tr>\n",
       "      <th>Company</th>\n",
       "      <th></th>\n",
       "    </tr>\n",
       "  </thead>\n",
       "  <tbody>\n",
       "    <tr>\n",
       "      <th>Acme Hr Consulting</th>\n",
       "      <td>36.333333</td>\n",
       "    </tr>\n",
       "    <tr>\n",
       "      <th>Multirecruit</th>\n",
       "      <td>32.500000</td>\n",
       "    </tr>\n",
       "    <tr>\n",
       "      <th>Adobe</th>\n",
       "      <td>30.500000</td>\n",
       "    </tr>\n",
       "    <tr>\n",
       "      <th>Conxai Technologies GmbH</th>\n",
       "      <td>24.000000</td>\n",
       "    </tr>\n",
       "    <tr>\n",
       "      <th>Sourcedesk Global</th>\n",
       "      <td>14.000000</td>\n",
       "    </tr>\n",
       "  </tbody>\n",
       "</table>\n",
       "</div>"
      ],
      "text/plain": [
       "                          avg_salary\n",
       "Company                             \n",
       "Acme Hr Consulting         36.333333\n",
       "Multirecruit               32.500000\n",
       "Adobe                      30.500000\n",
       "Conxai Technologies GmbH   24.000000\n",
       "Sourcedesk Global          14.000000"
      ]
     },
     "execution_count": 27,
     "metadata": {},
     "output_type": "execute_result"
    }
   ],
   "source": [
    "pd.pivot_table(df,index='Company', values='avg_salary').sort_values(by='avg_salary',ascending=False).head(5)"
   ]
  },
  {
   "cell_type": "markdown",
   "id": "44a5d36e",
   "metadata": {},
   "source": [
    "## Word Cloud"
   ]
  },
  {
   "cell_type": "code",
   "execution_count": 28,
   "id": "59501269",
   "metadata": {},
   "outputs": [
    {
     "name": "stderr",
     "output_type": "stream",
     "text": [
      "[nltk_data] Downloading package punkt to\n",
      "[nltk_data]     C:\\Users\\ansar\\AppData\\Roaming\\nltk_data...\n",
      "[nltk_data]   Package punkt is already up-to-date!\n",
      "[nltk_data] Downloading package stopwords to\n",
      "[nltk_data]     C:\\Users\\ansar\\AppData\\Roaming\\nltk_data...\n",
      "[nltk_data]   Package stopwords is already up-to-date!\n"
     ]
    },
    {
     "data": {
      "text/plain": [
       "True"
      ]
     },
     "execution_count": 28,
     "metadata": {},
     "output_type": "execute_result"
    }
   ],
   "source": [
    "from wordcloud import WordCloud, ImageColorGenerator,STOPWORDS\n",
    "from nltk.corpus import stopwords\n",
    "from nltk.tokenize import word_tokenize\n",
    "nltk.download('punkt')\n",
    "nltk.download('stopwords')"
   ]
  },
  {
   "cell_type": "code",
   "execution_count": 29,
   "id": "8ab9d657",
   "metadata": {},
   "outputs": [],
   "source": [
    "words = \" \".join(df['Job Title'])\n",
    "\n",
    "def punctuation_stop(text):\n",
    "    \"\"\" remove punctuation and stopwords\"\"\"\n",
    "    filtered = []\n",
    "    stop_words = set(stopwords.words('english'))\n",
    "    word_tokens = word_tokenize(text)\n",
    "    for w in word_tokens:\n",
    "        if w not in stop_words and w.isalpha():\n",
    "            filtered.append(w.lower())\n",
    "    return filtered"
   ]
  },
  {
   "cell_type": "code",
   "execution_count": 30,
   "id": "de6053dc",
   "metadata": {},
   "outputs": [
    {
     "data": {
      "image/png": "[encoded data removed]",
      "text/plain": [
       "<Figure size 576x576 with 1 Axes>"
      ]
     },
     "metadata": {
      "needs_background": "light"
     },
     "output_type": "display_data"
    }
   ],
   "source": [
    "words_filtered = punctuation_stop(words) \n",
    "text = \" \".join([ele for ele in words_filtered])\n",
    "\n",
    "wc = WordCloud(background_color='white',random_state=1, stopwords=STOPWORDS, max_words=3000, width=500, height=500)\n",
    "wc.generate(text)\n",
    "\n",
    "plt.figure(figsize=[8,8])\n",
    "plt.imshow(wc,interpolation='bilinear')\n",
    "plt.axis('off')\n",
    "plt.show()"
   ]
  },
  {
   "cell_type": "markdown",
   "id": "403ff04b",
   "metadata": {},
   "source": [
    "## Thank You!"
   ]
  },
  {
   "cell_type": "code",
   "execution_count": null,
   "id": "2cb22482",
   "metadata": {},
   "outputs": [],
   "source": []
  }
 ],
 "metadata": {
  "kernelspec": {
   "display_name": "Python 3 (ipykernel)",
   "language": "python",
   "name": "python3"
  },
  "language_info": {
   "codemirror_mode": {
    "name": "ipython",
    "version": 3
   },
   "file_extension": ".py",
   "mimetype": "text/x-python",
   "name": "python",
   "nbconvert_exporter": "python",
   "pygments_lexer": "ipython3",
   "version": "3.9.12"
  }
 },
 "nbformat": 4,
 "nbformat_minor": 5
}
